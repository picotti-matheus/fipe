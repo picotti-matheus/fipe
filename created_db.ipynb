{
 "cells": [
  {
   "cell_type": "markdown",
   "metadata": {},
   "source": [
    "# Criação de banco de dados"
   ]
  },
  {
   "cell_type": "code",
   "execution_count": 5,
   "metadata": {},
   "outputs": [],
   "source": [
    "# importando bibliotecas\n",
    "\n",
    "import pandas as pd\n",
    "import sqlalchemy\n",
    "import sqlite3"
   ]
  },
  {
   "cell_type": "code",
   "execution_count": 6,
   "metadata": {},
   "outputs": [],
   "source": [
    "# função para executar as queries\n",
    "\n",
    "def import_query(path):\n",
    "    with open(path,'r') as open_file:\n",
    "        query = open_file.read()\n",
    "    return query"
   ]
  },
  {
   "cell_type": "code",
   "execution_count": 7,
   "metadata": {},
   "outputs": [],
   "source": [
    "# carregar os csvs em df\n",
    "\n",
    "marca_df = pd.read_csv('csv\\marcas_fipe.csv')\n",
    "modelos_df = pd.read_csv('csv\\modelos_fipe.csv')\n",
    "anos_modelos_marcas = pd.read_csv('csv\\\\anos_modelos_fipe.csv')\n",
    "codigo_fipe_modelos_marcas = pd.read_csv('csv\\modelos_codigo_fipe.csv')\n",
    "precos_ano_modelo_marca = pd.read_csv('csv\\price_history.csv')"
   ]
  },
  {
   "cell_type": "code",
   "execution_count": 8,
   "metadata": {},
   "outputs": [],
   "source": [
    "# conectar ao banco de dados\n",
    "\n",
    "conn = sqlite3.connect('fipe.db')"
   ]
  },
  {
   "cell_type": "code",
   "execution_count": 9,
   "metadata": {},
   "outputs": [
    {
     "data": {
      "text/plain": [
       "82953"
      ]
     },
     "execution_count": 9,
     "metadata": {},
     "output_type": "execute_result"
    }
   ],
   "source": [
    "# salvar os df como tabelas no banco\n",
    "\n",
    "marca_df.to_sql('marca_fipe',conn,if_exists='replace',index=False)\n",
    "modelos_df.to_sql('modelos_fipe',conn,if_exists='replace',index=False)\n",
    "anos_modelos_marcas.to_sql('ano_modelos_marcas',conn,if_exists='replace',index=False)\n",
    "codigo_fipe_modelos_marcas.to_sql('codigo_fipe_modelos_marcas',conn,if_exists='replace',index=False)\n",
    "precos_ano_modelo_marca.to_sql('precos_ano_modelo_marca',conn,if_exists='replace',index=False)"
   ]
  },
  {
   "cell_type": "code",
   "execution_count": 10,
   "metadata": {},
   "outputs": [
    {
     "data": {
      "text/html": [
       "<div>\n",
       "<style scoped>\n",
       "    .dataframe tbody tr th:only-of-type {\n",
       "        vertical-align: middle;\n",
       "    }\n",
       "\n",
       "    .dataframe tbody tr th {\n",
       "        vertical-align: top;\n",
       "    }\n",
       "\n",
       "    .dataframe thead th {\n",
       "        text-align: right;\n",
       "    }\n",
       "</style>\n",
       "<table border=\"1\" class=\"dataframe\">\n",
       "  <thead>\n",
       "    <tr style=\"text-align: right;\">\n",
       "      <th></th>\n",
       "      <th>name</th>\n",
       "    </tr>\n",
       "  </thead>\n",
       "  <tbody>\n",
       "    <tr>\n",
       "      <th>0</th>\n",
       "      <td>preços_ano_modelo_marca</td>\n",
       "    </tr>\n",
       "    <tr>\n",
       "      <th>1</th>\n",
       "      <td>marca_fipe</td>\n",
       "    </tr>\n",
       "    <tr>\n",
       "      <th>2</th>\n",
       "      <td>modelos_fipe</td>\n",
       "    </tr>\n",
       "    <tr>\n",
       "      <th>3</th>\n",
       "      <td>ano_modelos_marcas</td>\n",
       "    </tr>\n",
       "    <tr>\n",
       "      <th>4</th>\n",
       "      <td>codigo_fipe_modelos_marcas</td>\n",
       "    </tr>\n",
       "    <tr>\n",
       "      <th>5</th>\n",
       "      <td>precos_ano_modelo_marca</td>\n",
       "    </tr>\n",
       "  </tbody>\n",
       "</table>\n",
       "</div>"
      ],
      "text/plain": [
       "                         name\n",
       "0     preços_ano_modelo_marca\n",
       "1                  marca_fipe\n",
       "2                modelos_fipe\n",
       "3          ano_modelos_marcas\n",
       "4  codigo_fipe_modelos_marcas\n",
       "5     precos_ano_modelo_marca"
      ]
     },
     "execution_count": 10,
     "metadata": {},
     "output_type": "execute_result"
    }
   ],
   "source": [
    "# verificando tabelas\n",
    "\n",
    "query_tables = \"SELECT name FROM sqlite_master WHERE type='table';\"\n",
    "tables = pd.read_sql(query_tables, conn)\n",
    "tables"
   ]
  },
  {
   "cell_type": "code",
   "execution_count": 11,
   "metadata": {},
   "outputs": [],
   "source": [
    "# trazendo queries em dataframes que serão utilizados\n",
    "\n",
    "query_marca_modelo_ano = import_query('queries\\marca_modelo_ano.sql')\n",
    "df_marca_modelo_ano = pd.read_sql_query(query_marca_modelo_ano,conn)\n",
    "df_marca_modelo_ano.to_csv('df_power_bi\\df_marca_modelo_ano.csv',index=False)\n",
    "\n",
    "\n",
    "\n",
    "query_history = import_query('queries\\history.sql')\n",
    "df_history = pd.read_sql_query(query_history,conn)\n",
    "df_history.to_csv('df_power_bi\\df_history.csv',index=False)"
   ]
  }
 ],
 "metadata": {
  "kernelspec": {
   "display_name": "Python 3",
   "language": "python",
   "name": "python3"
  },
  "language_info": {
   "codemirror_mode": {
    "name": "ipython",
    "version": 3
   },
   "file_extension": ".py",
   "mimetype": "text/x-python",
   "name": "python",
   "nbconvert_exporter": "python",
   "pygments_lexer": "ipython3",
   "version": "3.9.7"
  },
  "orig_nbformat": 4
 },
 "nbformat": 4,
 "nbformat_minor": 2
}
