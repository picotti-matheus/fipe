{
 "cells": [
  {
   "cell_type": "markdown",
   "metadata": {},
   "source": [
    "# Requisições e Tratamendo de dados"
   ]
  },
  {
   "cell_type": "code",
   "execution_count": 1,
   "metadata": {},
   "outputs": [],
   "source": [
    "# importando bibliotecas \n",
    "\n",
    "import pandas as pd\n",
    "import requests\n",
    "import time\n",
    "import ast"
   ]
  },
  {
   "cell_type": "markdown",
   "metadata": {},
   "source": [
    "Obtendo cada marca de carro\n"
   ]
  },
  {
   "cell_type": "code",
   "execution_count": null,
   "metadata": {},
   "outputs": [],
   "source": [
    "# trazendo as marcas de carros da API\n",
    "\n",
    "url_marcas = 'https://parallelum.com.br/fipe/api/v2/cars/brands'\n",
    "response_marcas = requests.get(url_marcas)\n",
    "marcas = response_marcas.json()"
   ]
  },
  {
   "cell_type": "code",
   "execution_count": null,
   "metadata": {},
   "outputs": [],
   "source": [
    "# tranformando em df e salvando como csv\n",
    "marcas_df = pd.DataFrame(marcas)\n",
    "marcas_df.to_csv('csv\\marcas_fipe.csv',index=False)"
   ]
  },
  {
   "cell_type": "markdown",
   "metadata": {},
   "source": [
    "Obtendo modelo de cada marca de carro"
   ]
  },
  {
   "cell_type": "code",
   "execution_count": null,
   "metadata": {},
   "outputs": [],
   "source": [
    "# loop para consultar cada marca de carro e trazer os seus modelos\n",
    "\n",
    "marcas_code = marcas_df['code'].tolist()\n",
    "lista_modelos = []\n",
    "for marca in marcas_code:\n",
    "    url_modelos = f'https://parallelum.com.br/fipe/api/v2/cars/brands/{marca}/models'\n",
    "    response_modelos = requests.get(url_modelos)\n",
    "    modelos = response_modelos.json()\n",
    "    modelos_df = pd.DataFrame(modelos)\n",
    "    modelos_df['code_marcas'] = marca\n",
    "    lista_modelos.append(modelos_df)"
   ]
  },
  {
   "cell_type": "code",
   "execution_count": null,
   "metadata": {},
   "outputs": [],
   "source": [
    "# combinando os dataframes gerados de modelo e salvando em csv\n",
    "\n",
    "modelos_fipe = pd.concat(lista_modelos, ignore_index=True)\n",
    "modelos_fipe.rename(columns={'code':'code_modelo'},inplace=True)\n",
    "modelos_fipe.to_csv('csv\\modelos_fipe.csv',index=False)"
   ]
  },
  {
   "cell_type": "markdown",
   "metadata": {},
   "source": [
    "Obtendo anos dos modelos de cada marca"
   ]
  },
  {
   "cell_type": "code",
   "execution_count": null,
   "metadata": {},
   "outputs": [],
   "source": [
    "# loop para consultar cada marca e modelo de carro e trazer os seus anos\n",
    "\n",
    "modelos_fipe_ = modelos_fipe\n",
    "lista_anos_modelos = []\n",
    "\n",
    "for index, row in modelos_fipe_.iterrows():\n",
    "    c = row['code_marcas']\n",
    "    v = row['code_modelo']\n",
    "    \n",
    "    url_anos_modelos = f'https://parallelum.com.br/fipe/api/v2/cars/brands/{c}/models/{v}/years'\n",
    "    response_anos_modelos = requests.get(url_anos_modelos)\n",
    "    \n",
    "    if response_anos_modelos.status_code == 200:\n",
    "        anos_modelos = response_anos_modelos.json()\n",
    "        anos_modelos_df = pd.DataFrame(anos_modelos)\n",
    "        anos_modelos_df['code_marca'] = c\n",
    "        anos_modelos_df['code_modelos'] = v\n",
    "        lista_anos_modelos.append(anos_modelos_df)\n",
    "        print(f'Verificando {url_anos_modelos}')\n",
    "        print(f'Marca {c}, modelo {v}')\n",
    "    else:\n",
    "        print(f'Erro na requisição para {url_anos_modelos}. Status code: {response_anos_modelos.status_code}')\n",
    "    \n",
    "    time.sleep(1)\n"
   ]
  },
  {
   "cell_type": "code",
   "execution_count": null,
   "metadata": {},
   "outputs": [],
   "source": [
    "# combinando os dataframes gerados de cada ano de modelo e salvando em csv\n",
    "\n",
    "lista_anos_modelos\n",
    "anos_modelos_fipe = pd.concat(lista_anos_modelos, ignore_index=True)\n",
    "anos_modelos_fipe.rename(columns={'code':'ano_modelo'},inplace=True)\n",
    "anos_modelos_fipe.to_csv('csv\\\\anos_modelos_fipe.csv',index=False)"
   ]
  },
  {
   "cell_type": "markdown",
   "metadata": {},
   "source": [
    "Obtendo o codigo fipe de cada modelo, marca e ano unico"
   ]
  },
  {
   "cell_type": "markdown",
   "metadata": {},
   "source": [
    "Como cada modelo possui o mesmo codigo fipe independente do ano, queremos apenas um ano de cada marca e modelo"
   ]
  },
  {
   "cell_type": "code",
   "execution_count": null,
   "metadata": {},
   "outputs": [],
   "source": [
    "# criando dataframe apenas com o primeiro ano de cada marca e modelo\n",
    "\n",
    "anos_modelos_fipe.sort_values(by=['code_marca','code_modelos','ano_modelo'])\n",
    "dados_para_codigo_fipe = anos_modelos_fipe.groupby(['code_marca', 'code_modelos'])['ano_modelo'].first().reset_index()"
   ]
  },
  {
   "cell_type": "code",
   "execution_count": null,
   "metadata": {},
   "outputs": [],
   "source": [
    "# loop para consultar cada codigo fipe do modelo, marca e ano\n",
    "lista_codigo_fipe = []\n",
    "\n",
    "for index, row in dados_para_codigo_fipe.iterrows():\n",
    "    m = row['code_marca']\n",
    "    mod = row['code_modelos']\n",
    "    y = row['ano_modelo']\n",
    "\n",
    "    url_codigo_fipe = f'https://parallelum.com.br/fipe/api/v2/cars/brands/{m}/models/{mod}/years/{y}'\n",
    "\n",
    "    response_codigo_fipe = requests.get(url_codigo_fipe)\n",
    "    \n",
    "    if response_codigo_fipe.status_code == 200:\n",
    "        codigo_fipe = response_codigo_fipe.json()\n",
    "        selecionando_valores = {\n",
    "        'price': codigo_fipe['price'],\n",
    "        'brand': codigo_fipe['brand'],\n",
    "        'model': codigo_fipe['model'],\n",
    "        'modelYear': codigo_fipe['modelYear'],\n",
    "        'codeFipe': codigo_fipe['codeFipe']\n",
    "        }\n",
    "        codigo_fipe_df = pd.DataFrame([selecionando_valores])\n",
    "        codigo_fipe_df['code_marca'] = m\n",
    "        codigo_fipe_df['code_modelos'] = mod\n",
    "        lista_codigo_fipe.append(codigo_fipe_df)\n",
    "        print(f'Verificando {url_codigo_fipe}')\n",
    "    else:\n",
    "        print(f'Erro na requisição para {url_codigo_fipe}. Status code: {response_anos_modelos.status_code}')\n",
    "    \n",
    "    time.sleep(1)\n",
    "print('Terminou a verificação')"
   ]
  },
  {
   "cell_type": "code",
   "execution_count": null,
   "metadata": {},
   "outputs": [],
   "source": [
    "# combinando os dataframes gerados com cada codigo fipe para cada modelo e salvando csv\n",
    "\n",
    "lista_codigo_fipe\n",
    "modelos_codigo_fipe = pd.concat(lista_codigo_fipe, ignore_index=True)\n",
    "modelos_codigo_fipe.head(30)\n",
    "modelos_codigo_fipe.to_csv('csv\\modelos_codigo_fipe.csv',index=False)"
   ]
  },
  {
   "cell_type": "markdown",
   "metadata": {},
   "source": [
    "Criando chave de ligação (marca + modelo) para trazer o ano de cada codigo fipe"
   ]
  },
  {
   "cell_type": "code",
   "execution_count": null,
   "metadata": {},
   "outputs": [],
   "source": [
    "# criando chave marca + modelo para join\n",
    "\n",
    "modelos_codigo_fipe.head()\n",
    "modelos_codigo_fipe['code_marca_modelo'] = modelos_codigo_fipe['code_marca'] + '_' + modelos_codigo_fipe['code_modelos']\n",
    "anos_modelos_fipe.head()\n",
    "anos_modelos_fipe['code_marca_modelo'] = anos_modelos_fipe['code_marca'] + '_' + anos_modelos_fipe['code_modelos']"
   ]
  },
  {
   "cell_type": "code",
   "execution_count": null,
   "metadata": {},
   "outputs": [],
   "source": [
    "# realizando o join\n",
    "\n",
    "df_code_fipe_ano_modelo = pd.merge(modelos_codigo_fipe[['code_marca_modelo','codeFipe']],\n",
    "         anos_modelos_fipe[['code_marca_modelo','ano_modelo']],\n",
    "         on='code_marca_modelo',how='inner')\n",
    "df_code_fipe_ano_modelo.duplicated().sum()"
   ]
  },
  {
   "cell_type": "code",
   "execution_count": null,
   "metadata": {},
   "outputs": [],
   "source": [
    "# removendo duplicatas e salvando em csv\n",
    "\n",
    "df_code_fipe_ano_modelo_unique = df_code_fipe_ano_modelo.drop_duplicates(subset=['codeFipe','ano_modelo'])\n",
    "df_code_fipe_ano_modelo\n",
    "df_code_fipe_ano_modelo_unique.to_csv('csv\\code_fipe_anos.csv',index=False)"
   ]
  },
  {
   "cell_type": "markdown",
   "metadata": {},
   "source": [
    "Obtendo preço fipe para cada codigo fipe e ano do modelo"
   ]
  },
  {
   "cell_type": "markdown",
   "metadata": {},
   "source": []
  },
  {
   "cell_type": "code",
   "execution_count": null,
   "metadata": {},
   "outputs": [],
   "source": [
    "# lendo arquvido csv e salvando em um dataframe\n",
    "\n",
    "df = pd.read_csv('csv\\code_fipe_anos.csv')"
   ]
  },
  {
   "cell_type": "code",
   "execution_count": null,
   "metadata": {},
   "outputs": [],
   "source": [
    "# loop para cada codigo fipe e ano do modelo\n",
    "\n",
    "lista_codigo_fipe_anos = []\n",
    "\n",
    "timeout = 10\n",
    "\n",
    "for index, row in df.iterrows():\n",
    "    codeFipe = row['codeFipe']\n",
    "    ano_modelo = row['ano_modelo']\n",
    "    url_codigo_fipe_anos = f'https://parallelum.com.br/fipe/api/v2/cars/{codeFipe}/years/{ano_modelo}/history'\n",
    "\n",
    "    try:\n",
    "        response_codigo_fipe_anos = requests.get(url_codigo_fipe_anos, timeout=timeout)\n",
    "        response_json = response_codigo_fipe_anos.json()\n",
    "\n",
    "        if response_codigo_fipe_anos.status_code == 200:\n",
    "            selecionando_valores = {\n",
    "                'brand': response_json['brand'],\n",
    "                'model': response_json['model'],\n",
    "                'modelYear': response_json['modelYear'],\n",
    "                'codeFipe': response_json['codeFipe'],\n",
    "                'price_history': response_json['priceHistory']\n",
    "            }\n",
    "            selecionando_valores['ano_modelo'] = ano_modelo\n",
    "            lista_codigo_fipe_anos.append(selecionando_valores)\n",
    "            print(f'Conferindo {url_codigo_fipe_anos}')\n",
    "        else:\n",
    "            print(f'Erro na requisição para {url_codigo_fipe_anos}. Status code: {response_codigo_fipe_anos.status_code}')\n",
    "    except requests.exceptions.RequestException as e:\n",
    "        print(f'Erro na requisição para {url_codigo_fipe_anos}: {e}')\n",
    "\n",
    "    time.sleep(5)\n",
    "    "
   ]
  },
  {
   "cell_type": "code",
   "execution_count": null,
   "metadata": {},
   "outputs": [],
   "source": [
    "# tranformar em dataframe e salvar em csv\n",
    "\n",
    "if lista_codigo_fipe_anos:\n",
    "    codigo_fipe_anos = pd.DataFrame(lista_codigo_fipe_anos)\n",
    "    print('Processo concluído.')\n",
    "else:\n",
    "    print('Nenhum registro válido encontrado.')\n",
    "\n",
    "codigo_fipe_anos.to_csv('csv\\codigo_fipe_anos.csv',index=False)"
   ]
  },
  {
   "cell_type": "markdown",
   "metadata": {},
   "source": [
    "Tratando json da coluna price_history"
   ]
  },
  {
   "cell_type": "code",
   "execution_count": 5,
   "metadata": {},
   "outputs": [],
   "source": [
    "# ler csv e tranformar coluna price_history em objeto\n",
    "\n",
    "df = pd.read_csv('csv\\codigo_fipe_anos.csv')\n",
    "df['price_history'] = df['price_history'].apply(ast.literal_eval)"
   ]
  },
  {
   "cell_type": "code",
   "execution_count": 6,
   "metadata": {},
   "outputs": [],
   "source": [
    "# loop para cada linha da coluna price_history e expandindo os valores\n",
    "\n",
    "df_expanded = []\n",
    "for index, row in df.iterrows():\n",
    "    for x in row['price_history']:\n",
    "        df_expanded.append({\n",
    "            'brand': row['brand'],\n",
    "            'model': row['model'],\n",
    "            'modelYear': row['modelYear'],\n",
    "            'codeFipe': row['codeFipe'],\n",
    "            'price': x['price'],\n",
    "            'month': x['month'],\n",
    "            'reference': x['reference'],\n",
    "            'ano_modelo': row['ano_modelo']\n",
    "        })\n",
    "\n",
    "# criando novo dataframe com os valores expandidos\n",
    "price_history = pd.DataFrame(df_expanded)"
   ]
  },
  {
   "cell_type": "code",
   "execution_count": 10,
   "metadata": {},
   "outputs": [],
   "source": [
    "# salvando em csv\n",
    "\n",
    "price_history.to_csv('csv\\price_history.csv',index=False)"
   ]
  }
 ],
 "metadata": {
  "kernelspec": {
   "display_name": "Python 3",
   "language": "python",
   "name": "python3"
  },
  "language_info": {
   "codemirror_mode": {
    "name": "ipython",
    "version": 3
   },
   "file_extension": ".py",
   "mimetype": "text/x-python",
   "name": "python",
   "nbconvert_exporter": "python",
   "pygments_lexer": "ipython3",
   "version": "3.9.7"
  },
  "orig_nbformat": 4
 },
 "nbformat": 4,
 "nbformat_minor": 2
}
